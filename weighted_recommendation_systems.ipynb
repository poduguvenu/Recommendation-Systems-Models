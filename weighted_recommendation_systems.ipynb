{
  "nbformat": 4,
  "nbformat_minor": 0,
  "metadata": {
    "kernelspec": {
      "display_name": "Python 3",
      "language": "python",
      "name": "python3"
    },
    "language_info": {
      "codemirror_mode": {
        "name": "ipython",
        "version": 3
      },
      "file_extension": ".py",
      "mimetype": "text/x-python",
      "name": "python",
      "nbconvert_exporter": "python",
      "pygments_lexer": "ipython3",
      "version": "3.7.6"
    },
    "colab": {
      "name": "weighted-recommendation-systems.ipynb",
      "provenance": []
    }
  },
  "cells": [
    {
      "cell_type": "markdown",
      "metadata": {
        "id": "KxAEgEhGvpWF"
      },
      "source": [
        "# Building a Basic Recommentation System \r\n"
      ]
    },
    {
      "cell_type": "markdown",
      "metadata": {
        "id": "UGSUAefIv1jJ"
      },
      "source": [
        "## Importing libraries"
      ]
    },
    {
      "cell_type": "code",
      "metadata": {
        "id": "D8983djxvMq4"
      },
      "source": [
        "import numpy as np\r\n",
        "import pandas as pd\r\n",
        "import matplotlib.pyplot as plt\r\n",
        "%matplotlib inline\r\n",
        "import seaborn as sns\r\n",
        "from sklearn.preprocessing import MinMaxScaler"
      ],
      "execution_count": 50,
      "outputs": []
    },
    {
      "cell_type": "markdown",
      "metadata": {
        "id": "kBzJLAGIv6Y7"
      },
      "source": [
        "## Importing the Dataset\r\n",
        "The dataset is downloaded from Kaggle datasets"
      ]
    },
    {
      "cell_type": "code",
      "metadata": {
        "colab": {
          "base_uri": "https://localhost:8080/"
        },
        "id": "3rfVKqoKzd_E",
        "outputId": "cd31f864-5781-45e5-c2c1-89ca11268661"
      },
      "source": [
        "!pip install opendatasets --upgrade --q\r\n",
        "import opendatasets as od\r\n",
        "\r\n",
        "movie_url = \"https://www.kaggle.com/tmdb/tmdb-movie-metadata?select=tmdb_5000_movies.csv\"\r\n",
        "credits_url = \"https://www.kaggle.com/tmdb/tmdb-movie-metadata\"\r\n",
        "\r\n",
        "od.download(movie_url)\r\n",
        "od.download(credits_url)"
      ],
      "execution_count": 51,
      "outputs": [
        {
          "output_type": "stream",
          "text": [
            "Please provide your Kaggle credentials to download this dataset. Learn more: http://bit.ly/kaggle-creds\n",
            "Your Kaggle username: venupodugu\n",
            "Your Kaggle Key: ··········\n"
          ],
          "name": "stdout"
        },
        {
          "output_type": "stream",
          "text": [
            "100%|██████████| 8.89M/8.89M [00:00<00:00, 124MB/s]"
          ],
          "name": "stderr"
        },
        {
          "output_type": "stream",
          "text": [
            "Downloading tmdb-movie-metadata.zip to ./tmdb-movie-metadata\n",
            "\n"
          ],
          "name": "stdout"
        },
        {
          "output_type": "stream",
          "text": [
            "\n"
          ],
          "name": "stderr"
        },
        {
          "output_type": "stream",
          "text": [
            "Please provide your Kaggle credentials to download this dataset. Learn more: http://bit.ly/kaggle-creds\n",
            "Your Kaggle username: venupodugu\n",
            "Your Kaggle Key: ··········\n"
          ],
          "name": "stdout"
        },
        {
          "output_type": "stream",
          "text": [
            "100%|██████████| 8.89M/8.89M [00:00<00:00, 135MB/s]"
          ],
          "name": "stderr"
        },
        {
          "output_type": "stream",
          "text": [
            "Downloading tmdb-movie-metadata.zip to ./tmdb-movie-metadata\n",
            "\n"
          ],
          "name": "stdout"
        },
        {
          "output_type": "stream",
          "text": [
            "\n"
          ],
          "name": "stderr"
        }
      ]
    },
    {
      "cell_type": "code",
      "metadata": {
        "id": "XzXhvrLDv-YT"
      },
      "source": [
        "movies_df = pd.read_csv('./tmdb-movie-metadata/tmdb_5000_movies.csv')\r\n",
        "credits_df = pd.read_csv('./tmdb-movie-metadata/tmdb_5000_credits.csv')"
      ],
      "execution_count": 52,
      "outputs": []
    },
    {
      "cell_type": "markdown",
      "metadata": {
        "id": "GB0XKuLbv_Q6"
      },
      "source": [
        "## Exploring the Dataset"
      ]
    },
    {
      "cell_type": "code",
      "metadata": {
        "colab": {
          "base_uri": "https://localhost:8080/",
          "height": 430
        },
        "id": "-Oafam-8wGdk",
        "outputId": "24ce6e8b-15da-4561-981d-e61e5660ac7b"
      },
      "source": [
        "movies_df.head(3)"
      ],
      "execution_count": 53,
      "outputs": [
        {
          "output_type": "execute_result",
          "data": {
            "text/html": [
              "<div>\n",
              "<style scoped>\n",
              "    .dataframe tbody tr th:only-of-type {\n",
              "        vertical-align: middle;\n",
              "    }\n",
              "\n",
              "    .dataframe tbody tr th {\n",
              "        vertical-align: top;\n",
              "    }\n",
              "\n",
              "    .dataframe thead th {\n",
              "        text-align: right;\n",
              "    }\n",
              "</style>\n",
              "<table border=\"1\" class=\"dataframe\">\n",
              "  <thead>\n",
              "    <tr style=\"text-align: right;\">\n",
              "      <th></th>\n",
              "      <th>budget</th>\n",
              "      <th>genres</th>\n",
              "      <th>homepage</th>\n",
              "      <th>id</th>\n",
              "      <th>keywords</th>\n",
              "      <th>original_language</th>\n",
              "      <th>original_title</th>\n",
              "      <th>overview</th>\n",
              "      <th>popularity</th>\n",
              "      <th>production_companies</th>\n",
              "      <th>production_countries</th>\n",
              "      <th>release_date</th>\n",
              "      <th>revenue</th>\n",
              "      <th>runtime</th>\n",
              "      <th>spoken_languages</th>\n",
              "      <th>status</th>\n",
              "      <th>tagline</th>\n",
              "      <th>title</th>\n",
              "      <th>vote_average</th>\n",
              "      <th>vote_count</th>\n",
              "    </tr>\n",
              "  </thead>\n",
              "  <tbody>\n",
              "    <tr>\n",
              "      <th>0</th>\n",
              "      <td>237000000</td>\n",
              "      <td>[{\"id\": 28, \"name\": \"Action\"}, {\"id\": 12, \"nam...</td>\n",
              "      <td>http://www.avatarmovie.com/</td>\n",
              "      <td>19995</td>\n",
              "      <td>[{\"id\": 1463, \"name\": \"culture clash\"}, {\"id\":...</td>\n",
              "      <td>en</td>\n",
              "      <td>Avatar</td>\n",
              "      <td>In the 22nd century, a paraplegic Marine is di...</td>\n",
              "      <td>150.437577</td>\n",
              "      <td>[{\"name\": \"Ingenious Film Partners\", \"id\": 289...</td>\n",
              "      <td>[{\"iso_3166_1\": \"US\", \"name\": \"United States o...</td>\n",
              "      <td>2009-12-10</td>\n",
              "      <td>2787965087</td>\n",
              "      <td>162.0</td>\n",
              "      <td>[{\"iso_639_1\": \"en\", \"name\": \"English\"}, {\"iso...</td>\n",
              "      <td>Released</td>\n",
              "      <td>Enter the World of Pandora.</td>\n",
              "      <td>Avatar</td>\n",
              "      <td>7.2</td>\n",
              "      <td>11800</td>\n",
              "    </tr>\n",
              "    <tr>\n",
              "      <th>1</th>\n",
              "      <td>300000000</td>\n",
              "      <td>[{\"id\": 12, \"name\": \"Adventure\"}, {\"id\": 14, \"...</td>\n",
              "      <td>http://disney.go.com/disneypictures/pirates/</td>\n",
              "      <td>285</td>\n",
              "      <td>[{\"id\": 270, \"name\": \"ocean\"}, {\"id\": 726, \"na...</td>\n",
              "      <td>en</td>\n",
              "      <td>Pirates of the Caribbean: At World's End</td>\n",
              "      <td>Captain Barbossa, long believed to be dead, ha...</td>\n",
              "      <td>139.082615</td>\n",
              "      <td>[{\"name\": \"Walt Disney Pictures\", \"id\": 2}, {\"...</td>\n",
              "      <td>[{\"iso_3166_1\": \"US\", \"name\": \"United States o...</td>\n",
              "      <td>2007-05-19</td>\n",
              "      <td>961000000</td>\n",
              "      <td>169.0</td>\n",
              "      <td>[{\"iso_639_1\": \"en\", \"name\": \"English\"}]</td>\n",
              "      <td>Released</td>\n",
              "      <td>At the end of the world, the adventure begins.</td>\n",
              "      <td>Pirates of the Caribbean: At World's End</td>\n",
              "      <td>6.9</td>\n",
              "      <td>4500</td>\n",
              "    </tr>\n",
              "    <tr>\n",
              "      <th>2</th>\n",
              "      <td>245000000</td>\n",
              "      <td>[{\"id\": 28, \"name\": \"Action\"}, {\"id\": 12, \"nam...</td>\n",
              "      <td>http://www.sonypictures.com/movies/spectre/</td>\n",
              "      <td>206647</td>\n",
              "      <td>[{\"id\": 470, \"name\": \"spy\"}, {\"id\": 818, \"name...</td>\n",
              "      <td>en</td>\n",
              "      <td>Spectre</td>\n",
              "      <td>A cryptic message from Bond’s past sends him o...</td>\n",
              "      <td>107.376788</td>\n",
              "      <td>[{\"name\": \"Columbia Pictures\", \"id\": 5}, {\"nam...</td>\n",
              "      <td>[{\"iso_3166_1\": \"GB\", \"name\": \"United Kingdom\"...</td>\n",
              "      <td>2015-10-26</td>\n",
              "      <td>880674609</td>\n",
              "      <td>148.0</td>\n",
              "      <td>[{\"iso_639_1\": \"fr\", \"name\": \"Fran\\u00e7ais\"},...</td>\n",
              "      <td>Released</td>\n",
              "      <td>A Plan No One Escapes</td>\n",
              "      <td>Spectre</td>\n",
              "      <td>6.3</td>\n",
              "      <td>4466</td>\n",
              "    </tr>\n",
              "  </tbody>\n",
              "</table>\n",
              "</div>"
            ],
            "text/plain": [
              "      budget  ... vote_count\n",
              "0  237000000  ...      11800\n",
              "1  300000000  ...       4500\n",
              "2  245000000  ...       4466\n",
              "\n",
              "[3 rows x 20 columns]"
            ]
          },
          "metadata": {
            "tags": []
          },
          "execution_count": 53
        }
      ]
    },
    {
      "cell_type": "code",
      "metadata": {
        "colab": {
          "base_uri": "https://localhost:8080/",
          "height": 133
        },
        "id": "dAqvBkzz4XOR",
        "outputId": "b97d092f-bdec-457d-ad22-32bd338829b5"
      },
      "source": [
        "credits_df.head(3)"
      ],
      "execution_count": 54,
      "outputs": [
        {
          "output_type": "execute_result",
          "data": {
            "text/html": [
              "<div>\n",
              "<style scoped>\n",
              "    .dataframe tbody tr th:only-of-type {\n",
              "        vertical-align: middle;\n",
              "    }\n",
              "\n",
              "    .dataframe tbody tr th {\n",
              "        vertical-align: top;\n",
              "    }\n",
              "\n",
              "    .dataframe thead th {\n",
              "        text-align: right;\n",
              "    }\n",
              "</style>\n",
              "<table border=\"1\" class=\"dataframe\">\n",
              "  <thead>\n",
              "    <tr style=\"text-align: right;\">\n",
              "      <th></th>\n",
              "      <th>movie_id</th>\n",
              "      <th>title</th>\n",
              "      <th>cast</th>\n",
              "      <th>crew</th>\n",
              "    </tr>\n",
              "  </thead>\n",
              "  <tbody>\n",
              "    <tr>\n",
              "      <th>0</th>\n",
              "      <td>19995</td>\n",
              "      <td>Avatar</td>\n",
              "      <td>[{\"cast_id\": 242, \"character\": \"Jake Sully\", \"...</td>\n",
              "      <td>[{\"credit_id\": \"52fe48009251416c750aca23\", \"de...</td>\n",
              "    </tr>\n",
              "    <tr>\n",
              "      <th>1</th>\n",
              "      <td>285</td>\n",
              "      <td>Pirates of the Caribbean: At World's End</td>\n",
              "      <td>[{\"cast_id\": 4, \"character\": \"Captain Jack Spa...</td>\n",
              "      <td>[{\"credit_id\": \"52fe4232c3a36847f800b579\", \"de...</td>\n",
              "    </tr>\n",
              "    <tr>\n",
              "      <th>2</th>\n",
              "      <td>206647</td>\n",
              "      <td>Spectre</td>\n",
              "      <td>[{\"cast_id\": 1, \"character\": \"James Bond\", \"cr...</td>\n",
              "      <td>[{\"credit_id\": \"54805967c3a36829b5002c41\", \"de...</td>\n",
              "    </tr>\n",
              "  </tbody>\n",
              "</table>\n",
              "</div>"
            ],
            "text/plain": [
              "   movie_id  ...                                               crew\n",
              "0     19995  ...  [{\"credit_id\": \"52fe48009251416c750aca23\", \"de...\n",
              "1       285  ...  [{\"credit_id\": \"52fe4232c3a36847f800b579\", \"de...\n",
              "2    206647  ...  [{\"credit_id\": \"54805967c3a36829b5002c41\", \"de...\n",
              "\n",
              "[3 rows x 4 columns]"
            ]
          },
          "metadata": {
            "tags": []
          },
          "execution_count": 54
        }
      ]
    },
    {
      "cell_type": "code",
      "metadata": {
        "colab": {
          "base_uri": "https://localhost:8080/"
        },
        "id": "zt-ywcAU4bPv",
        "outputId": "fe9aa19d-9a9e-4d4b-9502-32c178053424"
      },
      "source": [
        "# Shape of the datasets\r\n",
        "print('Shape of movies_df: ', movies_df.shape)\r\n",
        "print('Shape of credits_df: ', credits_df.shape) "
      ],
      "execution_count": 55,
      "outputs": [
        {
          "output_type": "stream",
          "text": [
            "Shape of movies_df:  (4803, 20)\n",
            "Shape of credits_df:  (4803, 4)\n"
          ],
          "name": "stdout"
        }
      ]
    },
    {
      "cell_type": "code",
      "metadata": {
        "id": "Wg6I7hKL4fG8"
      },
      "source": [
        "# Renaming the 'movie_id' column of credits_df to 'id' so that we can merge the two datasets based on the 'id' column\r\n",
        "credits_id_renamed = credits_df.rename(columns = {'movie_id': 'id'})\r\n",
        "\r\n",
        "# Merging the two datasets\r\n",
        "merged_movies_df = movies_df.merge(credits_id_renamed, on = 'id')"
      ],
      "execution_count": 56,
      "outputs": []
    },
    {
      "cell_type": "code",
      "metadata": {
        "colab": {
          "base_uri": "https://localhost:8080/",
          "height": 430
        },
        "id": "6a_qS-8m7T8U",
        "outputId": "3ede2ea4-669f-48ce-8124-13ff7422b092"
      },
      "source": [
        "merged_movies_df.head(3)"
      ],
      "execution_count": 57,
      "outputs": [
        {
          "output_type": "execute_result",
          "data": {
            "text/html": [
              "<div>\n",
              "<style scoped>\n",
              "    .dataframe tbody tr th:only-of-type {\n",
              "        vertical-align: middle;\n",
              "    }\n",
              "\n",
              "    .dataframe tbody tr th {\n",
              "        vertical-align: top;\n",
              "    }\n",
              "\n",
              "    .dataframe thead th {\n",
              "        text-align: right;\n",
              "    }\n",
              "</style>\n",
              "<table border=\"1\" class=\"dataframe\">\n",
              "  <thead>\n",
              "    <tr style=\"text-align: right;\">\n",
              "      <th></th>\n",
              "      <th>budget</th>\n",
              "      <th>genres</th>\n",
              "      <th>homepage</th>\n",
              "      <th>id</th>\n",
              "      <th>keywords</th>\n",
              "      <th>original_language</th>\n",
              "      <th>original_title</th>\n",
              "      <th>overview</th>\n",
              "      <th>popularity</th>\n",
              "      <th>production_companies</th>\n",
              "      <th>production_countries</th>\n",
              "      <th>release_date</th>\n",
              "      <th>revenue</th>\n",
              "      <th>runtime</th>\n",
              "      <th>spoken_languages</th>\n",
              "      <th>status</th>\n",
              "      <th>tagline</th>\n",
              "      <th>title_x</th>\n",
              "      <th>vote_average</th>\n",
              "      <th>vote_count</th>\n",
              "      <th>title_y</th>\n",
              "      <th>cast</th>\n",
              "      <th>crew</th>\n",
              "    </tr>\n",
              "  </thead>\n",
              "  <tbody>\n",
              "    <tr>\n",
              "      <th>0</th>\n",
              "      <td>237000000</td>\n",
              "      <td>[{\"id\": 28, \"name\": \"Action\"}, {\"id\": 12, \"nam...</td>\n",
              "      <td>http://www.avatarmovie.com/</td>\n",
              "      <td>19995</td>\n",
              "      <td>[{\"id\": 1463, \"name\": \"culture clash\"}, {\"id\":...</td>\n",
              "      <td>en</td>\n",
              "      <td>Avatar</td>\n",
              "      <td>In the 22nd century, a paraplegic Marine is di...</td>\n",
              "      <td>150.437577</td>\n",
              "      <td>[{\"name\": \"Ingenious Film Partners\", \"id\": 289...</td>\n",
              "      <td>[{\"iso_3166_1\": \"US\", \"name\": \"United States o...</td>\n",
              "      <td>2009-12-10</td>\n",
              "      <td>2787965087</td>\n",
              "      <td>162.0</td>\n",
              "      <td>[{\"iso_639_1\": \"en\", \"name\": \"English\"}, {\"iso...</td>\n",
              "      <td>Released</td>\n",
              "      <td>Enter the World of Pandora.</td>\n",
              "      <td>Avatar</td>\n",
              "      <td>7.2</td>\n",
              "      <td>11800</td>\n",
              "      <td>Avatar</td>\n",
              "      <td>[{\"cast_id\": 242, \"character\": \"Jake Sully\", \"...</td>\n",
              "      <td>[{\"credit_id\": \"52fe48009251416c750aca23\", \"de...</td>\n",
              "    </tr>\n",
              "    <tr>\n",
              "      <th>1</th>\n",
              "      <td>300000000</td>\n",
              "      <td>[{\"id\": 12, \"name\": \"Adventure\"}, {\"id\": 14, \"...</td>\n",
              "      <td>http://disney.go.com/disneypictures/pirates/</td>\n",
              "      <td>285</td>\n",
              "      <td>[{\"id\": 270, \"name\": \"ocean\"}, {\"id\": 726, \"na...</td>\n",
              "      <td>en</td>\n",
              "      <td>Pirates of the Caribbean: At World's End</td>\n",
              "      <td>Captain Barbossa, long believed to be dead, ha...</td>\n",
              "      <td>139.082615</td>\n",
              "      <td>[{\"name\": \"Walt Disney Pictures\", \"id\": 2}, {\"...</td>\n",
              "      <td>[{\"iso_3166_1\": \"US\", \"name\": \"United States o...</td>\n",
              "      <td>2007-05-19</td>\n",
              "      <td>961000000</td>\n",
              "      <td>169.0</td>\n",
              "      <td>[{\"iso_639_1\": \"en\", \"name\": \"English\"}]</td>\n",
              "      <td>Released</td>\n",
              "      <td>At the end of the world, the adventure begins.</td>\n",
              "      <td>Pirates of the Caribbean: At World's End</td>\n",
              "      <td>6.9</td>\n",
              "      <td>4500</td>\n",
              "      <td>Pirates of the Caribbean: At World's End</td>\n",
              "      <td>[{\"cast_id\": 4, \"character\": \"Captain Jack Spa...</td>\n",
              "      <td>[{\"credit_id\": \"52fe4232c3a36847f800b579\", \"de...</td>\n",
              "    </tr>\n",
              "    <tr>\n",
              "      <th>2</th>\n",
              "      <td>245000000</td>\n",
              "      <td>[{\"id\": 28, \"name\": \"Action\"}, {\"id\": 12, \"nam...</td>\n",
              "      <td>http://www.sonypictures.com/movies/spectre/</td>\n",
              "      <td>206647</td>\n",
              "      <td>[{\"id\": 470, \"name\": \"spy\"}, {\"id\": 818, \"name...</td>\n",
              "      <td>en</td>\n",
              "      <td>Spectre</td>\n",
              "      <td>A cryptic message from Bond’s past sends him o...</td>\n",
              "      <td>107.376788</td>\n",
              "      <td>[{\"name\": \"Columbia Pictures\", \"id\": 5}, {\"nam...</td>\n",
              "      <td>[{\"iso_3166_1\": \"GB\", \"name\": \"United Kingdom\"...</td>\n",
              "      <td>2015-10-26</td>\n",
              "      <td>880674609</td>\n",
              "      <td>148.0</td>\n",
              "      <td>[{\"iso_639_1\": \"fr\", \"name\": \"Fran\\u00e7ais\"},...</td>\n",
              "      <td>Released</td>\n",
              "      <td>A Plan No One Escapes</td>\n",
              "      <td>Spectre</td>\n",
              "      <td>6.3</td>\n",
              "      <td>4466</td>\n",
              "      <td>Spectre</td>\n",
              "      <td>[{\"cast_id\": 1, \"character\": \"James Bond\", \"cr...</td>\n",
              "      <td>[{\"credit_id\": \"54805967c3a36829b5002c41\", \"de...</td>\n",
              "    </tr>\n",
              "  </tbody>\n",
              "</table>\n",
              "</div>"
            ],
            "text/plain": [
              "      budget  ...                                               crew\n",
              "0  237000000  ...  [{\"credit_id\": \"52fe48009251416c750aca23\", \"de...\n",
              "1  300000000  ...  [{\"credit_id\": \"52fe4232c3a36847f800b579\", \"de...\n",
              "2  245000000  ...  [{\"credit_id\": \"54805967c3a36829b5002c41\", \"de...\n",
              "\n",
              "[3 rows x 23 columns]"
            ]
          },
          "metadata": {
            "tags": []
          },
          "execution_count": 57
        }
      ]
    },
    {
      "cell_type": "code",
      "metadata": {
        "colab": {
          "base_uri": "https://localhost:8080/",
          "height": 430
        },
        "id": "qKYts5fA7haF",
        "outputId": "e442dd7b-22ac-4664-d64c-5429a3710be1"
      },
      "source": [
        "# Deleting unwanted features\r\n",
        "\r\n",
        "cleaned_movies_df = merged_movies_df.drop(columns=['homepage', 'title_x', 'title_y', 'status', 'production_countries'])\r\n",
        "cleaned_movies_df.head(3)"
      ],
      "execution_count": 58,
      "outputs": [
        {
          "output_type": "execute_result",
          "data": {
            "text/html": [
              "<div>\n",
              "<style scoped>\n",
              "    .dataframe tbody tr th:only-of-type {\n",
              "        vertical-align: middle;\n",
              "    }\n",
              "\n",
              "    .dataframe tbody tr th {\n",
              "        vertical-align: top;\n",
              "    }\n",
              "\n",
              "    .dataframe thead th {\n",
              "        text-align: right;\n",
              "    }\n",
              "</style>\n",
              "<table border=\"1\" class=\"dataframe\">\n",
              "  <thead>\n",
              "    <tr style=\"text-align: right;\">\n",
              "      <th></th>\n",
              "      <th>budget</th>\n",
              "      <th>genres</th>\n",
              "      <th>id</th>\n",
              "      <th>keywords</th>\n",
              "      <th>original_language</th>\n",
              "      <th>original_title</th>\n",
              "      <th>overview</th>\n",
              "      <th>popularity</th>\n",
              "      <th>production_companies</th>\n",
              "      <th>release_date</th>\n",
              "      <th>revenue</th>\n",
              "      <th>runtime</th>\n",
              "      <th>spoken_languages</th>\n",
              "      <th>tagline</th>\n",
              "      <th>vote_average</th>\n",
              "      <th>vote_count</th>\n",
              "      <th>cast</th>\n",
              "      <th>crew</th>\n",
              "    </tr>\n",
              "  </thead>\n",
              "  <tbody>\n",
              "    <tr>\n",
              "      <th>0</th>\n",
              "      <td>237000000</td>\n",
              "      <td>[{\"id\": 28, \"name\": \"Action\"}, {\"id\": 12, \"nam...</td>\n",
              "      <td>19995</td>\n",
              "      <td>[{\"id\": 1463, \"name\": \"culture clash\"}, {\"id\":...</td>\n",
              "      <td>en</td>\n",
              "      <td>Avatar</td>\n",
              "      <td>In the 22nd century, a paraplegic Marine is di...</td>\n",
              "      <td>150.437577</td>\n",
              "      <td>[{\"name\": \"Ingenious Film Partners\", \"id\": 289...</td>\n",
              "      <td>2009-12-10</td>\n",
              "      <td>2787965087</td>\n",
              "      <td>162.0</td>\n",
              "      <td>[{\"iso_639_1\": \"en\", \"name\": \"English\"}, {\"iso...</td>\n",
              "      <td>Enter the World of Pandora.</td>\n",
              "      <td>7.2</td>\n",
              "      <td>11800</td>\n",
              "      <td>[{\"cast_id\": 242, \"character\": \"Jake Sully\", \"...</td>\n",
              "      <td>[{\"credit_id\": \"52fe48009251416c750aca23\", \"de...</td>\n",
              "    </tr>\n",
              "    <tr>\n",
              "      <th>1</th>\n",
              "      <td>300000000</td>\n",
              "      <td>[{\"id\": 12, \"name\": \"Adventure\"}, {\"id\": 14, \"...</td>\n",
              "      <td>285</td>\n",
              "      <td>[{\"id\": 270, \"name\": \"ocean\"}, {\"id\": 726, \"na...</td>\n",
              "      <td>en</td>\n",
              "      <td>Pirates of the Caribbean: At World's End</td>\n",
              "      <td>Captain Barbossa, long believed to be dead, ha...</td>\n",
              "      <td>139.082615</td>\n",
              "      <td>[{\"name\": \"Walt Disney Pictures\", \"id\": 2}, {\"...</td>\n",
              "      <td>2007-05-19</td>\n",
              "      <td>961000000</td>\n",
              "      <td>169.0</td>\n",
              "      <td>[{\"iso_639_1\": \"en\", \"name\": \"English\"}]</td>\n",
              "      <td>At the end of the world, the adventure begins.</td>\n",
              "      <td>6.9</td>\n",
              "      <td>4500</td>\n",
              "      <td>[{\"cast_id\": 4, \"character\": \"Captain Jack Spa...</td>\n",
              "      <td>[{\"credit_id\": \"52fe4232c3a36847f800b579\", \"de...</td>\n",
              "    </tr>\n",
              "    <tr>\n",
              "      <th>2</th>\n",
              "      <td>245000000</td>\n",
              "      <td>[{\"id\": 28, \"name\": \"Action\"}, {\"id\": 12, \"nam...</td>\n",
              "      <td>206647</td>\n",
              "      <td>[{\"id\": 470, \"name\": \"spy\"}, {\"id\": 818, \"name...</td>\n",
              "      <td>en</td>\n",
              "      <td>Spectre</td>\n",
              "      <td>A cryptic message from Bond’s past sends him o...</td>\n",
              "      <td>107.376788</td>\n",
              "      <td>[{\"name\": \"Columbia Pictures\", \"id\": 5}, {\"nam...</td>\n",
              "      <td>2015-10-26</td>\n",
              "      <td>880674609</td>\n",
              "      <td>148.0</td>\n",
              "      <td>[{\"iso_639_1\": \"fr\", \"name\": \"Fran\\u00e7ais\"},...</td>\n",
              "      <td>A Plan No One Escapes</td>\n",
              "      <td>6.3</td>\n",
              "      <td>4466</td>\n",
              "      <td>[{\"cast_id\": 1, \"character\": \"James Bond\", \"cr...</td>\n",
              "      <td>[{\"credit_id\": \"54805967c3a36829b5002c41\", \"de...</td>\n",
              "    </tr>\n",
              "  </tbody>\n",
              "</table>\n",
              "</div>"
            ],
            "text/plain": [
              "      budget  ...                                               crew\n",
              "0  237000000  ...  [{\"credit_id\": \"52fe48009251416c750aca23\", \"de...\n",
              "1  300000000  ...  [{\"credit_id\": \"52fe4232c3a36847f800b579\", \"de...\n",
              "2  245000000  ...  [{\"credit_id\": \"54805967c3a36829b5002c41\", \"de...\n",
              "\n",
              "[3 rows x 18 columns]"
            ]
          },
          "metadata": {
            "tags": []
          },
          "execution_count": 58
        }
      ]
    },
    {
      "cell_type": "code",
      "metadata": {
        "colab": {
          "base_uri": "https://localhost:8080/"
        },
        "id": "I1bAyj3b87MM",
        "outputId": "839c741c-e62f-4373-d5cf-3fd871ef48a0"
      },
      "source": [
        "cleaned_movies_df.info()"
      ],
      "execution_count": 59,
      "outputs": [
        {
          "output_type": "stream",
          "text": [
            "<class 'pandas.core.frame.DataFrame'>\n",
            "Int64Index: 4803 entries, 0 to 4802\n",
            "Data columns (total 18 columns):\n",
            " #   Column                Non-Null Count  Dtype  \n",
            "---  ------                --------------  -----  \n",
            " 0   budget                4803 non-null   int64  \n",
            " 1   genres                4803 non-null   object \n",
            " 2   id                    4803 non-null   int64  \n",
            " 3   keywords              4803 non-null   object \n",
            " 4   original_language     4803 non-null   object \n",
            " 5   original_title        4803 non-null   object \n",
            " 6   overview              4800 non-null   object \n",
            " 7   popularity            4803 non-null   float64\n",
            " 8   production_companies  4803 non-null   object \n",
            " 9   release_date          4802 non-null   object \n",
            " 10  revenue               4803 non-null   int64  \n",
            " 11  runtime               4801 non-null   float64\n",
            " 12  spoken_languages      4803 non-null   object \n",
            " 13  tagline               3959 non-null   object \n",
            " 14  vote_average          4803 non-null   float64\n",
            " 15  vote_count            4803 non-null   int64  \n",
            " 16  cast                  4803 non-null   object \n",
            " 17  crew                  4803 non-null   object \n",
            "dtypes: float64(3), int64(4), object(11)\n",
            "memory usage: 712.9+ KB\n"
          ],
          "name": "stdout"
        }
      ]
    },
    {
      "cell_type": "markdown",
      "metadata": {
        "id": "-GK2OHQt9Qt4"
      },
      "source": [
        "There isn't any null values in the dataset"
      ]
    },
    {
      "cell_type": "markdown",
      "metadata": {
        "id": "gJBIbhUQ9cHu"
      },
      "source": [
        "## Using Weighted Average for each movie's Average Rating\r\n",
        "\r\n",
        "![image.png](data:image/png;base64,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)"
      ]
    },
    {
      "cell_type": "code",
      "metadata": {
        "id": "btMQiM9H9MZa"
      },
      "source": [
        "# Calculating all the components based on the above formula\r\n",
        "\r\n",
        "v = cleaned_movies_df['vote_count']\r\n",
        "R = cleaned_movies_df['vote_average']\r\n",
        "C = cleaned_movies_df['vote_average'].mean()\r\n",
        "m = cleaned_movies_df['vote_count'].quantile(0.70)"
      ],
      "execution_count": 60,
      "outputs": []
    },
    {
      "cell_type": "code",
      "metadata": {
        "id": "L_-hGbrAAsX0"
      },
      "source": [
        "# Calculating the Weighted Average\r\n",
        "\r\n",
        "cleaned_movies_df['weighted_avg'] = (R*v + C*m) / (v + m)"
      ],
      "execution_count": 61,
      "outputs": []
    },
    {
      "cell_type": "code",
      "metadata": {
        "colab": {
          "base_uri": "https://localhost:8080/",
          "height": 430
        },
        "id": "_M_I4xEWBO2h",
        "outputId": "4ac54679-6504-42c8-dc07-25a8b3aa398b"
      },
      "source": [
        "cleaned_movies_df.head(3)"
      ],
      "execution_count": 62,
      "outputs": [
        {
          "output_type": "execute_result",
          "data": {
            "text/html": [
              "<div>\n",
              "<style scoped>\n",
              "    .dataframe tbody tr th:only-of-type {\n",
              "        vertical-align: middle;\n",
              "    }\n",
              "\n",
              "    .dataframe tbody tr th {\n",
              "        vertical-align: top;\n",
              "    }\n",
              "\n",
              "    .dataframe thead th {\n",
              "        text-align: right;\n",
              "    }\n",
              "</style>\n",
              "<table border=\"1\" class=\"dataframe\">\n",
              "  <thead>\n",
              "    <tr style=\"text-align: right;\">\n",
              "      <th></th>\n",
              "      <th>budget</th>\n",
              "      <th>genres</th>\n",
              "      <th>id</th>\n",
              "      <th>keywords</th>\n",
              "      <th>original_language</th>\n",
              "      <th>original_title</th>\n",
              "      <th>overview</th>\n",
              "      <th>popularity</th>\n",
              "      <th>production_companies</th>\n",
              "      <th>release_date</th>\n",
              "      <th>revenue</th>\n",
              "      <th>runtime</th>\n",
              "      <th>spoken_languages</th>\n",
              "      <th>tagline</th>\n",
              "      <th>vote_average</th>\n",
              "      <th>vote_count</th>\n",
              "      <th>cast</th>\n",
              "      <th>crew</th>\n",
              "      <th>weighted_avg</th>\n",
              "    </tr>\n",
              "  </thead>\n",
              "  <tbody>\n",
              "    <tr>\n",
              "      <th>0</th>\n",
              "      <td>237000000</td>\n",
              "      <td>[{\"id\": 28, \"name\": \"Action\"}, {\"id\": 12, \"nam...</td>\n",
              "      <td>19995</td>\n",
              "      <td>[{\"id\": 1463, \"name\": \"culture clash\"}, {\"id\":...</td>\n",
              "      <td>en</td>\n",
              "      <td>Avatar</td>\n",
              "      <td>In the 22nd century, a paraplegic Marine is di...</td>\n",
              "      <td>150.437577</td>\n",
              "      <td>[{\"name\": \"Ingenious Film Partners\", \"id\": 289...</td>\n",
              "      <td>2009-12-10</td>\n",
              "      <td>2787965087</td>\n",
              "      <td>162.0</td>\n",
              "      <td>[{\"iso_639_1\": \"en\", \"name\": \"English\"}, {\"iso...</td>\n",
              "      <td>Enter the World of Pandora.</td>\n",
              "      <td>7.2</td>\n",
              "      <td>11800</td>\n",
              "      <td>[{\"cast_id\": 242, \"character\": \"Jake Sully\", \"...</td>\n",
              "      <td>[{\"credit_id\": \"52fe48009251416c750aca23\", \"de...</td>\n",
              "      <td>7.148013</td>\n",
              "    </tr>\n",
              "    <tr>\n",
              "      <th>1</th>\n",
              "      <td>300000000</td>\n",
              "      <td>[{\"id\": 12, \"name\": \"Adventure\"}, {\"id\": 14, \"...</td>\n",
              "      <td>285</td>\n",
              "      <td>[{\"id\": 270, \"name\": \"ocean\"}, {\"id\": 726, \"na...</td>\n",
              "      <td>en</td>\n",
              "      <td>Pirates of the Caribbean: At World's End</td>\n",
              "      <td>Captain Barbossa, long believed to be dead, ha...</td>\n",
              "      <td>139.082615</td>\n",
              "      <td>[{\"name\": \"Walt Disney Pictures\", \"id\": 2}, {\"...</td>\n",
              "      <td>2007-05-19</td>\n",
              "      <td>961000000</td>\n",
              "      <td>169.0</td>\n",
              "      <td>[{\"iso_639_1\": \"en\", \"name\": \"English\"}]</td>\n",
              "      <td>At the end of the world, the adventure begins.</td>\n",
              "      <td>6.9</td>\n",
              "      <td>4500</td>\n",
              "      <td>[{\"cast_id\": 4, \"character\": \"Captain Jack Spa...</td>\n",
              "      <td>[{\"credit_id\": \"52fe4232c3a36847f800b579\", \"de...</td>\n",
              "      <td>6.807627</td>\n",
              "    </tr>\n",
              "    <tr>\n",
              "      <th>2</th>\n",
              "      <td>245000000</td>\n",
              "      <td>[{\"id\": 28, \"name\": \"Action\"}, {\"id\": 12, \"nam...</td>\n",
              "      <td>206647</td>\n",
              "      <td>[{\"id\": 470, \"name\": \"spy\"}, {\"id\": 818, \"name...</td>\n",
              "      <td>en</td>\n",
              "      <td>Spectre</td>\n",
              "      <td>A cryptic message from Bond’s past sends him o...</td>\n",
              "      <td>107.376788</td>\n",
              "      <td>[{\"name\": \"Columbia Pictures\", \"id\": 5}, {\"nam...</td>\n",
              "      <td>2015-10-26</td>\n",
              "      <td>880674609</td>\n",
              "      <td>148.0</td>\n",
              "      <td>[{\"iso_639_1\": \"fr\", \"name\": \"Fran\\u00e7ais\"},...</td>\n",
              "      <td>A Plan No One Escapes</td>\n",
              "      <td>6.3</td>\n",
              "      <td>4466</td>\n",
              "      <td>[{\"cast_id\": 1, \"character\": \"James Bond\", \"cr...</td>\n",
              "      <td>[{\"credit_id\": \"54805967c3a36829b5002c41\", \"de...</td>\n",
              "      <td>6.276075</td>\n",
              "    </tr>\n",
              "  </tbody>\n",
              "</table>\n",
              "</div>"
            ],
            "text/plain": [
              "      budget  ... weighted_avg\n",
              "0  237000000  ...     7.148013\n",
              "1  300000000  ...     6.807627\n",
              "2  245000000  ...     6.276075\n",
              "\n",
              "[3 rows x 19 columns]"
            ]
          },
          "metadata": {
            "tags": []
          },
          "execution_count": 62
        }
      ]
    },
    {
      "cell_type": "code",
      "metadata": {
        "id": "CMqJE4h4BTLJ"
      },
      "source": [
        "# Sorting the dataframe based on 'weighted average'\r\n",
        "\r\n",
        "sorted_weighted_avg_df = cleaned_movies_df.sort_values('weighted_avg', ascending=False)"
      ],
      "execution_count": 63,
      "outputs": []
    },
    {
      "cell_type": "code",
      "metadata": {
        "colab": {
          "base_uri": "https://localhost:8080/",
          "height": 622
        },
        "id": "E1CSDZYIFXlA",
        "outputId": "5d08ba63-263e-4fcc-af9d-de1a64b8e409"
      },
      "source": [
        "sorted_weighted_avg_df[['original_title', 'vote_count', 'vote_average', 'weighted_avg', 'popularity']].head(20)"
      ],
      "execution_count": 64,
      "outputs": [
        {
          "output_type": "execute_result",
          "data": {
            "text/html": [
              "<div>\n",
              "<style scoped>\n",
              "    .dataframe tbody tr th:only-of-type {\n",
              "        vertical-align: middle;\n",
              "    }\n",
              "\n",
              "    .dataframe tbody tr th {\n",
              "        vertical-align: top;\n",
              "    }\n",
              "\n",
              "    .dataframe thead th {\n",
              "        text-align: right;\n",
              "    }\n",
              "</style>\n",
              "<table border=\"1\" class=\"dataframe\">\n",
              "  <thead>\n",
              "    <tr style=\"text-align: right;\">\n",
              "      <th></th>\n",
              "      <th>original_title</th>\n",
              "      <th>vote_count</th>\n",
              "      <th>vote_average</th>\n",
              "      <th>weighted_avg</th>\n",
              "      <th>popularity</th>\n",
              "    </tr>\n",
              "  </thead>\n",
              "  <tbody>\n",
              "    <tr>\n",
              "      <th>1881</th>\n",
              "      <td>The Shawshank Redemption</td>\n",
              "      <td>8205</td>\n",
              "      <td>8.5</td>\n",
              "      <td>8.340775</td>\n",
              "      <td>136.747729</td>\n",
              "    </tr>\n",
              "    <tr>\n",
              "      <th>3337</th>\n",
              "      <td>The Godfather</td>\n",
              "      <td>5893</td>\n",
              "      <td>8.4</td>\n",
              "      <td>8.192887</td>\n",
              "      <td>143.659698</td>\n",
              "    </tr>\n",
              "    <tr>\n",
              "      <th>662</th>\n",
              "      <td>Fight Club</td>\n",
              "      <td>9413</td>\n",
              "      <td>8.3</td>\n",
              "      <td>8.171648</td>\n",
              "      <td>146.757391</td>\n",
              "    </tr>\n",
              "    <tr>\n",
              "      <th>3232</th>\n",
              "      <td>Pulp Fiction</td>\n",
              "      <td>8428</td>\n",
              "      <td>8.3</td>\n",
              "      <td>8.157615</td>\n",
              "      <td>121.463076</td>\n",
              "    </tr>\n",
              "    <tr>\n",
              "      <th>65</th>\n",
              "      <td>The Dark Knight</td>\n",
              "      <td>12002</td>\n",
              "      <td>8.2</td>\n",
              "      <td>8.102674</td>\n",
              "      <td>187.322927</td>\n",
              "    </tr>\n",
              "    <tr>\n",
              "      <th>809</th>\n",
              "      <td>Forrest Gump</td>\n",
              "      <td>7927</td>\n",
              "      <td>8.2</td>\n",
              "      <td>8.056059</td>\n",
              "      <td>138.133331</td>\n",
              "    </tr>\n",
              "    <tr>\n",
              "      <th>1818</th>\n",
              "      <td>Schindler's List</td>\n",
              "      <td>4329</td>\n",
              "      <td>8.3</td>\n",
              "      <td>8.038748</td>\n",
              "      <td>104.469351</td>\n",
              "    </tr>\n",
              "    <tr>\n",
              "      <th>3865</th>\n",
              "      <td>Whiplash</td>\n",
              "      <td>4254</td>\n",
              "      <td>8.3</td>\n",
              "      <td>8.034695</td>\n",
              "      <td>192.528841</td>\n",
              "    </tr>\n",
              "    <tr>\n",
              "      <th>96</th>\n",
              "      <td>Inception</td>\n",
              "      <td>13752</td>\n",
              "      <td>8.1</td>\n",
              "      <td>8.018611</td>\n",
              "      <td>167.583710</td>\n",
              "    </tr>\n",
              "    <tr>\n",
              "      <th>1990</th>\n",
              "      <td>The Empire Strikes Back</td>\n",
              "      <td>5879</td>\n",
              "      <td>8.2</td>\n",
              "      <td>8.010426</td>\n",
              "      <td>78.517830</td>\n",
              "    </tr>\n",
              "    <tr>\n",
              "      <th>2294</th>\n",
              "      <td>千と千尋の神隠し</td>\n",
              "      <td>3840</td>\n",
              "      <td>8.3</td>\n",
              "      <td>8.009851</td>\n",
              "      <td>118.968562</td>\n",
              "    </tr>\n",
              "    <tr>\n",
              "      <th>95</th>\n",
              "      <td>Interstellar</td>\n",
              "      <td>10867</td>\n",
              "      <td>8.1</td>\n",
              "      <td>7.998100</td>\n",
              "      <td>724.247784</td>\n",
              "    </tr>\n",
              "    <tr>\n",
              "      <th>2731</th>\n",
              "      <td>The Godfather: Part II</td>\n",
              "      <td>3338</td>\n",
              "      <td>8.3</td>\n",
              "      <td>7.972685</td>\n",
              "      <td>105.792936</td>\n",
              "    </tr>\n",
              "    <tr>\n",
              "      <th>329</th>\n",
              "      <td>The Lord of the Rings: The Return of the King</td>\n",
              "      <td>8064</td>\n",
              "      <td>8.1</td>\n",
              "      <td>7.965061</td>\n",
              "      <td>123.630332</td>\n",
              "    </tr>\n",
              "    <tr>\n",
              "      <th>2912</th>\n",
              "      <td>Star Wars</td>\n",
              "      <td>6624</td>\n",
              "      <td>8.1</td>\n",
              "      <td>7.938092</td>\n",
              "      <td>126.393695</td>\n",
              "    </tr>\n",
              "    <tr>\n",
              "      <th>690</th>\n",
              "      <td>The Green Mile</td>\n",
              "      <td>4048</td>\n",
              "      <td>8.2</td>\n",
              "      <td>7.935440</td>\n",
              "      <td>103.698022</td>\n",
              "    </tr>\n",
              "    <tr>\n",
              "      <th>1553</th>\n",
              "      <td>Se7en</td>\n",
              "      <td>5765</td>\n",
              "      <td>8.1</td>\n",
              "      <td>7.916176</td>\n",
              "      <td>79.579532</td>\n",
              "    </tr>\n",
              "    <tr>\n",
              "      <th>262</th>\n",
              "      <td>The Lord of the Rings: The Fellowship of the Ring</td>\n",
              "      <td>8705</td>\n",
              "      <td>8.0</td>\n",
              "      <td>7.880632</td>\n",
              "      <td>138.049577</td>\n",
              "    </tr>\n",
              "    <tr>\n",
              "      <th>1847</th>\n",
              "      <td>GoodFellas</td>\n",
              "      <td>3128</td>\n",
              "      <td>8.2</td>\n",
              "      <td>7.869817</td>\n",
              "      <td>63.654244</td>\n",
              "    </tr>\n",
              "    <tr>\n",
              "      <th>2091</th>\n",
              "      <td>The Silence of the Lambs</td>\n",
              "      <td>4443</td>\n",
              "      <td>8.1</td>\n",
              "      <td>7.867805</td>\n",
              "      <td>18.174804</td>\n",
              "    </tr>\n",
              "  </tbody>\n",
              "</table>\n",
              "</div>"
            ],
            "text/plain": [
              "                                         original_title  ...  popularity\n",
              "1881                           The Shawshank Redemption  ...  136.747729\n",
              "3337                                      The Godfather  ...  143.659698\n",
              "662                                          Fight Club  ...  146.757391\n",
              "3232                                       Pulp Fiction  ...  121.463076\n",
              "65                                      The Dark Knight  ...  187.322927\n",
              "809                                        Forrest Gump  ...  138.133331\n",
              "1818                                   Schindler's List  ...  104.469351\n",
              "3865                                           Whiplash  ...  192.528841\n",
              "96                                            Inception  ...  167.583710\n",
              "1990                            The Empire Strikes Back  ...   78.517830\n",
              "2294                                           千と千尋の神隠し  ...  118.968562\n",
              "95                                         Interstellar  ...  724.247784\n",
              "2731                             The Godfather: Part II  ...  105.792936\n",
              "329       The Lord of the Rings: The Return of the King  ...  123.630332\n",
              "2912                                          Star Wars  ...  126.393695\n",
              "690                                      The Green Mile  ...  103.698022\n",
              "1553                                              Se7en  ...   79.579532\n",
              "262   The Lord of the Rings: The Fellowship of the Ring  ...  138.049577\n",
              "1847                                         GoodFellas  ...   63.654244\n",
              "2091                           The Silence of the Lambs  ...   18.174804\n",
              "\n",
              "[20 rows x 5 columns]"
            ]
          },
          "metadata": {
            "tags": []
          },
          "execution_count": 64
        }
      ]
    },
    {
      "cell_type": "markdown",
      "metadata": {
        "id": "pJVabLDiFzUG"
      },
      "source": [
        "## Data Visualization\r\n",
        "### Visualizing the top 10 movies based on the weighted average of votes"
      ]
    },
    {
      "cell_type": "code",
      "metadata": {
        "colab": {
          "base_uri": "https://localhost:8080/",
          "height": 403
        },
        "id": "BT1VpCVMGApG",
        "outputId": "4bdb0a28-5d6a-4b62-d28b-09397be80283"
      },
      "source": [
        "plt.figure(figsize=(12, 6))\r\n",
        "# axis1 = sns.barplot(x = sorted_weighted_avg_df['weighted_avg'].head(10), y = sorted_weighted_avg_df['original_title'].head(10))\r\n",
        "sns.barplot(x = 'weighted_avg', y = 'original_title', data = sorted_weighted_avg_df.head(10))\r\n",
        "plt.xlim(4, 10)\r\n",
        "plt.title('Best movies by average votes', weight = 'bold')\r\n",
        "plt.xlabel('Weighted Average Score', weight = 'bold')\r\n",
        "plt.ylabel('Movie title', weight = 'bold')\r\n",
        "plt.savefig('best_movies.png')"
      ],
      "execution_count": 65,
      "outputs": [
        {
          "output_type": "display_data",
          "data": {
            "image/png": "[encoded data removed]",
            "text/plain": [
              "<Figure size 864x432 with 1 Axes>"
            ]
          },
          "metadata": {
            "tags": [],
            "needs_background": "light"
          }
        }
      ]
    },
    {
      "cell_type": "code",
      "metadata": {
        "colab": {
          "base_uri": "https://localhost:8080/",
          "height": 552
        },
        "id": "RkR-Son_GKxt",
        "outputId": "74bfa3bc-5235-4d37-a1f8-976fdc0da1ce"
      },
      "source": [
        "popularity = sorted_weighted_avg_df.sort_values('popularity', ascending = False)\r\n",
        "popularity.head()"
      ],
      "execution_count": 66,
      "outputs": [
        {
          "output_type": "execute_result",
          "data": {
            "text/html": [
              "<div>\n",
              "<style scoped>\n",
              "    .dataframe tbody tr th:only-of-type {\n",
              "        vertical-align: middle;\n",
              "    }\n",
              "\n",
              "    .dataframe tbody tr th {\n",
              "        vertical-align: top;\n",
              "    }\n",
              "\n",
              "    .dataframe thead th {\n",
              "        text-align: right;\n",
              "    }\n",
              "</style>\n",
              "<table border=\"1\" class=\"dataframe\">\n",
              "  <thead>\n",
              "    <tr style=\"text-align: right;\">\n",
              "      <th></th>\n",
              "      <th>budget</th>\n",
              "      <th>genres</th>\n",
              "      <th>id</th>\n",
              "      <th>keywords</th>\n",
              "      <th>original_language</th>\n",
              "      <th>original_title</th>\n",
              "      <th>overview</th>\n",
              "      <th>popularity</th>\n",
              "      <th>production_companies</th>\n",
              "      <th>release_date</th>\n",
              "      <th>revenue</th>\n",
              "      <th>runtime</th>\n",
              "      <th>spoken_languages</th>\n",
              "      <th>tagline</th>\n",
              "      <th>vote_average</th>\n",
              "      <th>vote_count</th>\n",
              "      <th>cast</th>\n",
              "      <th>crew</th>\n",
              "      <th>weighted_avg</th>\n",
              "    </tr>\n",
              "  </thead>\n",
              "  <tbody>\n",
              "    <tr>\n",
              "      <th>546</th>\n",
              "      <td>74000000</td>\n",
              "      <td>[{\"id\": 10751, \"name\": \"Family\"}, {\"id\": 16, \"...</td>\n",
              "      <td>211672</td>\n",
              "      <td>[{\"id\": 3487, \"name\": \"assistant\"}, {\"id\": 179...</td>\n",
              "      <td>en</td>\n",
              "      <td>Minions</td>\n",
              "      <td>Minions Stuart, Kevin and Bob are recruited by...</td>\n",
              "      <td>875.581305</td>\n",
              "      <td>[{\"name\": \"Universal Pictures\", \"id\": 33}, {\"n...</td>\n",
              "      <td>2015-06-17</td>\n",
              "      <td>1156730962</td>\n",
              "      <td>91.0</td>\n",
              "      <td>[{\"iso_639_1\": \"en\", \"name\": \"English\"}]</td>\n",
              "      <td>Before Gru, they had a history of bad bosses</td>\n",
              "      <td>6.4</td>\n",
              "      <td>4571</td>\n",
              "      <td>[{\"cast_id\": 22, \"character\": \"Scarlet Overkil...</td>\n",
              "      <td>[{\"credit_id\": \"5431b2b10e0a2656e20026c7\", \"de...</td>\n",
              "      <td>6.365286</td>\n",
              "    </tr>\n",
              "    <tr>\n",
              "      <th>95</th>\n",
              "      <td>165000000</td>\n",
              "      <td>[{\"id\": 12, \"name\": \"Adventure\"}, {\"id\": 18, \"...</td>\n",
              "      <td>157336</td>\n",
              "      <td>[{\"id\": 83, \"name\": \"saving the world\"}, {\"id\"...</td>\n",
              "      <td>en</td>\n",
              "      <td>Interstellar</td>\n",
              "      <td>Interstellar chronicles the adventures of a gr...</td>\n",
              "      <td>724.247784</td>\n",
              "      <td>[{\"name\": \"Paramount Pictures\", \"id\": 4}, {\"na...</td>\n",
              "      <td>2014-11-05</td>\n",
              "      <td>675120017</td>\n",
              "      <td>169.0</td>\n",
              "      <td>[{\"iso_639_1\": \"en\", \"name\": \"English\"}]</td>\n",
              "      <td>Mankind was born on Earth. It was never meant ...</td>\n",
              "      <td>8.1</td>\n",
              "      <td>10867</td>\n",
              "      <td>[{\"cast_id\": 9, \"character\": \"Joseph Cooper\", ...</td>\n",
              "      <td>[{\"credit_id\": \"52fe4bbf9251416c910e4801\", \"de...</td>\n",
              "      <td>7.998100</td>\n",
              "    </tr>\n",
              "    <tr>\n",
              "      <th>788</th>\n",
              "      <td>58000000</td>\n",
              "      <td>[{\"id\": 28, \"name\": \"Action\"}, {\"id\": 12, \"nam...</td>\n",
              "      <td>293660</td>\n",
              "      <td>[{\"id\": 2095, \"name\": \"anti hero\"}, {\"id\": 307...</td>\n",
              "      <td>en</td>\n",
              "      <td>Deadpool</td>\n",
              "      <td>Deadpool tells the origin story of former Spec...</td>\n",
              "      <td>514.569956</td>\n",
              "      <td>[{\"name\": \"Twentieth Century Fox Film Corporat...</td>\n",
              "      <td>2016-02-09</td>\n",
              "      <td>783112979</td>\n",
              "      <td>108.0</td>\n",
              "      <td>[{\"iso_639_1\": \"en\", \"name\": \"English\"}]</td>\n",
              "      <td>Witness the beginning of a happy ending</td>\n",
              "      <td>7.4</td>\n",
              "      <td>10995</td>\n",
              "      <td>[{\"cast_id\": 99, \"character\": \"Wade Wilson / D...</td>\n",
              "      <td>[{\"credit_id\": \"56c986b2925141172f0068b6\", \"de...</td>\n",
              "      <td>7.334360</td>\n",
              "    </tr>\n",
              "    <tr>\n",
              "      <th>94</th>\n",
              "      <td>170000000</td>\n",
              "      <td>[{\"id\": 28, \"name\": \"Action\"}, {\"id\": 878, \"na...</td>\n",
              "      <td>118340</td>\n",
              "      <td>[{\"id\": 8828, \"name\": \"marvel comic\"}, {\"id\": ...</td>\n",
              "      <td>en</td>\n",
              "      <td>Guardians of the Galaxy</td>\n",
              "      <td>Light years from Earth, 26 years after being a...</td>\n",
              "      <td>481.098624</td>\n",
              "      <td>[{\"name\": \"Marvel Studios\", \"id\": 420}, {\"name...</td>\n",
              "      <td>2014-07-30</td>\n",
              "      <td>773328629</td>\n",
              "      <td>121.0</td>\n",
              "      <td>[{\"iso_639_1\": \"en\", \"name\": \"English\"}]</td>\n",
              "      <td>All heroes start somewhere.</td>\n",
              "      <td>7.9</td>\n",
              "      <td>9742</td>\n",
              "      <td>[{\"cast_id\": 1, \"character\": \"Peter Quill / St...</td>\n",
              "      <td>[{\"credit_id\": \"538ce329c3a3687155003358\", \"de...</td>\n",
              "      <td>7.798252</td>\n",
              "    </tr>\n",
              "    <tr>\n",
              "      <th>127</th>\n",
              "      <td>150000000</td>\n",
              "      <td>[{\"id\": 28, \"name\": \"Action\"}, {\"id\": 12, \"nam...</td>\n",
              "      <td>76341</td>\n",
              "      <td>[{\"id\": 2964, \"name\": \"future\"}, {\"id\": 3713, ...</td>\n",
              "      <td>en</td>\n",
              "      <td>Mad Max: Fury Road</td>\n",
              "      <td>An apocalyptic story set in the furthest reach...</td>\n",
              "      <td>434.278564</td>\n",
              "      <td>[{\"name\": \"Village Roadshow Pictures\", \"id\": 7...</td>\n",
              "      <td>2015-05-13</td>\n",
              "      <td>378858340</td>\n",
              "      <td>120.0</td>\n",
              "      <td>[{\"iso_639_1\": \"en\", \"name\": \"English\"}]</td>\n",
              "      <td>What a Lovely Day.</td>\n",
              "      <td>7.2</td>\n",
              "      <td>9427</td>\n",
              "      <td>[{\"cast_id\": 2, \"character\": \"Max Rockatansky\"...</td>\n",
              "      <td>[{\"credit_id\": \"577da370c3a36817f8003838\", \"de...</td>\n",
              "      <td>7.135687</td>\n",
              "    </tr>\n",
              "  </tbody>\n",
              "</table>\n",
              "</div>"
            ],
            "text/plain": [
              "        budget  ... weighted_avg\n",
              "546   74000000  ...     6.365286\n",
              "95   165000000  ...     7.998100\n",
              "788   58000000  ...     7.334360\n",
              "94   170000000  ...     7.798252\n",
              "127  150000000  ...     7.135687\n",
              "\n",
              "[5 rows x 19 columns]"
            ]
          },
          "metadata": {
            "tags": []
          },
          "execution_count": 66
        }
      ]
    },
    {
      "cell_type": "markdown",
      "metadata": {
        "id": "tlr3nib8LbBH"
      },
      "source": [
        "### Visualizing the top 10 movies based on the popularity"
      ]
    },
    {
      "cell_type": "code",
      "metadata": {
        "colab": {
          "base_uri": "https://localhost:8080/",
          "height": 403
        },
        "id": "fdojc4USK_D9",
        "outputId": "bfe43129-174c-4e6b-ca78-5ad2544e108c"
      },
      "source": [
        "plt.figure(figsize=(12, 6))\r\n",
        "sns.set_style('darkgrid')\r\n",
        "sns.barplot(x = 'popularity', y = 'original_title', data = popularity.head(10))\r\n",
        "plt.title('Most popular movies by votes', weight = 'bold')\r\n",
        "plt.xlabel('Score of popularity', weight = 'bold')\r\n",
        "plt.ylabel('Movie title', weight = 'bold')\r\n",
        "plt.savefig('best_popular_movies.png')"
      ],
      "execution_count": 67,
      "outputs": [
        {
          "output_type": "display_data",
          "data": {
            "image/png": "[encoded data removed]",
            "text/plain": [
              "<Figure size 864x432 with 1 Axes>"
            ]
          },
          "metadata": {
            "tags": [],
            "needs_background": "light"
          }
        }
      ]
    },
    {
      "cell_type": "markdown",
      "metadata": {
        "id": "A1Tv03_eNQNt"
      },
      "source": [
        "## Recommendation based on scaled weighted average and popularity score (50% Priority is given to both)"
      ]
    },
    {
      "cell_type": "code",
      "metadata": {
        "colab": {
          "base_uri": "https://localhost:8080/",
          "height": 191
        },
        "id": "Pu0HGJFtMoIa",
        "outputId": "31fa6984-207b-4195-b457-bb5d402184a1"
      },
      "source": [
        "# Scaling the features\r\n",
        "\r\n",
        "scaler = MinMaxScaler()\r\n",
        "scaled_movies_df = scaler.fit_transform(cleaned_movies_df[['weighted_avg', 'popularity']])\r\n",
        "normalized_movies_df = pd.DataFrame(scaled_movies_df, columns=['weighted_avg', 'popularity'])\r\n",
        "normalized_movies_df.head()"
      ],
      "execution_count": 68,
      "outputs": [
        {
          "output_type": "execute_result",
          "data": {
            "text/html": [
              "<div>\n",
              "<style scoped>\n",
              "    .dataframe tbody tr th:only-of-type {\n",
              "        vertical-align: middle;\n",
              "    }\n",
              "\n",
              "    .dataframe tbody tr th {\n",
              "        vertical-align: top;\n",
              "    }\n",
              "\n",
              "    .dataframe thead th {\n",
              "        text-align: right;\n",
              "    }\n",
              "</style>\n",
              "<table border=\"1\" class=\"dataframe\">\n",
              "  <thead>\n",
              "    <tr style=\"text-align: right;\">\n",
              "      <th></th>\n",
              "      <th>weighted_avg</th>\n",
              "      <th>popularity</th>\n",
              "    </tr>\n",
              "  </thead>\n",
              "  <tbody>\n",
              "    <tr>\n",
              "      <th>0</th>\n",
              "      <td>0.674339</td>\n",
              "      <td>0.171815</td>\n",
              "    </tr>\n",
              "    <tr>\n",
              "      <th>1</th>\n",
              "      <td>0.581403</td>\n",
              "      <td>0.158846</td>\n",
              "    </tr>\n",
              "    <tr>\n",
              "      <th>2</th>\n",
              "      <td>0.436273</td>\n",
              "      <td>0.122635</td>\n",
              "    </tr>\n",
              "    <tr>\n",
              "      <th>3</th>\n",
              "      <td>0.773054</td>\n",
              "      <td>0.128272</td>\n",
              "    </tr>\n",
              "    <tr>\n",
              "      <th>4</th>\n",
              "      <td>0.387739</td>\n",
              "      <td>0.050169</td>\n",
              "    </tr>\n",
              "  </tbody>\n",
              "</table>\n",
              "</div>"
            ],
            "text/plain": [
              "   weighted_avg  popularity\n",
              "0      0.674339    0.171815\n",
              "1      0.581403    0.158846\n",
              "2      0.436273    0.122635\n",
              "3      0.773054    0.128272\n",
              "4      0.387739    0.050169"
            ]
          },
          "metadata": {
            "tags": []
          },
          "execution_count": 68
        }
      ]
    },
    {
      "cell_type": "code",
      "metadata": {
        "colab": {
          "base_uri": "https://localhost:8080/",
          "height": 430
        },
        "id": "HTT275z8O_Di",
        "outputId": "c7bad8e8-0556-49d6-8013-b2cb6b73a9c0"
      },
      "source": [
        "# Creating new features for normalized weighted average and popularity columns\r\n",
        "\r\n",
        "cleaned_movies_df[['normalized_weighted_avg', 'normalized_popularity']] = normalized_movies_df\r\n",
        "cleaned_movies_df.head(3)"
      ],
      "execution_count": 69,
      "outputs": [
        {
          "output_type": "execute_result",
          "data": {
            "text/html": [
              "<div>\n",
              "<style scoped>\n",
              "    .dataframe tbody tr th:only-of-type {\n",
              "        vertical-align: middle;\n",
              "    }\n",
              "\n",
              "    .dataframe tbody tr th {\n",
              "        vertical-align: top;\n",
              "    }\n",
              "\n",
              "    .dataframe thead th {\n",
              "        text-align: right;\n",
              "    }\n",
              "</style>\n",
              "<table border=\"1\" class=\"dataframe\">\n",
              "  <thead>\n",
              "    <tr style=\"text-align: right;\">\n",
              "      <th></th>\n",
              "      <th>budget</th>\n",
              "      <th>genres</th>\n",
              "      <th>id</th>\n",
              "      <th>keywords</th>\n",
              "      <th>original_language</th>\n",
              "      <th>original_title</th>\n",
              "      <th>overview</th>\n",
              "      <th>popularity</th>\n",
              "      <th>production_companies</th>\n",
              "      <th>release_date</th>\n",
              "      <th>revenue</th>\n",
              "      <th>runtime</th>\n",
              "      <th>spoken_languages</th>\n",
              "      <th>tagline</th>\n",
              "      <th>vote_average</th>\n",
              "      <th>vote_count</th>\n",
              "      <th>cast</th>\n",
              "      <th>crew</th>\n",
              "      <th>weighted_avg</th>\n",
              "      <th>normalized_weighted_avg</th>\n",
              "      <th>normalized_popularity</th>\n",
              "    </tr>\n",
              "  </thead>\n",
              "  <tbody>\n",
              "    <tr>\n",
              "      <th>0</th>\n",
              "      <td>237000000</td>\n",
              "      <td>[{\"id\": 28, \"name\": \"Action\"}, {\"id\": 12, \"nam...</td>\n",
              "      <td>19995</td>\n",
              "      <td>[{\"id\": 1463, \"name\": \"culture clash\"}, {\"id\":...</td>\n",
              "      <td>en</td>\n",
              "      <td>Avatar</td>\n",
              "      <td>In the 22nd century, a paraplegic Marine is di...</td>\n",
              "      <td>150.437577</td>\n",
              "      <td>[{\"name\": \"Ingenious Film Partners\", \"id\": 289...</td>\n",
              "      <td>2009-12-10</td>\n",
              "      <td>2787965087</td>\n",
              "      <td>162.0</td>\n",
              "      <td>[{\"iso_639_1\": \"en\", \"name\": \"English\"}, {\"iso...</td>\n",
              "      <td>Enter the World of Pandora.</td>\n",
              "      <td>7.2</td>\n",
              "      <td>11800</td>\n",
              "      <td>[{\"cast_id\": 242, \"character\": \"Jake Sully\", \"...</td>\n",
              "      <td>[{\"credit_id\": \"52fe48009251416c750aca23\", \"de...</td>\n",
              "      <td>7.148013</td>\n",
              "      <td>0.674339</td>\n",
              "      <td>0.171815</td>\n",
              "    </tr>\n",
              "    <tr>\n",
              "      <th>1</th>\n",
              "      <td>300000000</td>\n",
              "      <td>[{\"id\": 12, \"name\": \"Adventure\"}, {\"id\": 14, \"...</td>\n",
              "      <td>285</td>\n",
              "      <td>[{\"id\": 270, \"name\": \"ocean\"}, {\"id\": 726, \"na...</td>\n",
              "      <td>en</td>\n",
              "      <td>Pirates of the Caribbean: At World's End</td>\n",
              "      <td>Captain Barbossa, long believed to be dead, ha...</td>\n",
              "      <td>139.082615</td>\n",
              "      <td>[{\"name\": \"Walt Disney Pictures\", \"id\": 2}, {\"...</td>\n",
              "      <td>2007-05-19</td>\n",
              "      <td>961000000</td>\n",
              "      <td>169.0</td>\n",
              "      <td>[{\"iso_639_1\": \"en\", \"name\": \"English\"}]</td>\n",
              "      <td>At the end of the world, the adventure begins.</td>\n",
              "      <td>6.9</td>\n",
              "      <td>4500</td>\n",
              "      <td>[{\"cast_id\": 4, \"character\": \"Captain Jack Spa...</td>\n",
              "      <td>[{\"credit_id\": \"52fe4232c3a36847f800b579\", \"de...</td>\n",
              "      <td>6.807627</td>\n",
              "      <td>0.581403</td>\n",
              "      <td>0.158846</td>\n",
              "    </tr>\n",
              "    <tr>\n",
              "      <th>2</th>\n",
              "      <td>245000000</td>\n",
              "      <td>[{\"id\": 28, \"name\": \"Action\"}, {\"id\": 12, \"nam...</td>\n",
              "      <td>206647</td>\n",
              "      <td>[{\"id\": 470, \"name\": \"spy\"}, {\"id\": 818, \"name...</td>\n",
              "      <td>en</td>\n",
              "      <td>Spectre</td>\n",
              "      <td>A cryptic message from Bond’s past sends him o...</td>\n",
              "      <td>107.376788</td>\n",
              "      <td>[{\"name\": \"Columbia Pictures\", \"id\": 5}, {\"nam...</td>\n",
              "      <td>2015-10-26</td>\n",
              "      <td>880674609</td>\n",
              "      <td>148.0</td>\n",
              "      <td>[{\"iso_639_1\": \"fr\", \"name\": \"Fran\\u00e7ais\"},...</td>\n",
              "      <td>A Plan No One Escapes</td>\n",
              "      <td>6.3</td>\n",
              "      <td>4466</td>\n",
              "      <td>[{\"cast_id\": 1, \"character\": \"James Bond\", \"cr...</td>\n",
              "      <td>[{\"credit_id\": \"54805967c3a36829b5002c41\", \"de...</td>\n",
              "      <td>6.276075</td>\n",
              "      <td>0.436273</td>\n",
              "      <td>0.122635</td>\n",
              "    </tr>\n",
              "  </tbody>\n",
              "</table>\n",
              "</div>"
            ],
            "text/plain": [
              "      budget  ... normalized_popularity\n",
              "0  237000000  ...              0.171815\n",
              "1  300000000  ...              0.158846\n",
              "2  245000000  ...              0.122635\n",
              "\n",
              "[3 rows x 21 columns]"
            ]
          },
          "metadata": {
            "tags": []
          },
          "execution_count": 69
        }
      ]
    },
    {
      "cell_type": "code",
      "metadata": {
        "colab": {
          "base_uri": "https://localhost:8080/",
          "height": 478
        },
        "id": "kSKPeoZdPeKX",
        "outputId": "3a3bd9da-0600-4490-c950-68b4e87a33f5"
      },
      "source": [
        "# Assigning 50% priority to the weighted average and popularity columns and creating a new column 'score'\r\n",
        "\r\n",
        "cleaned_movies_df['score'] = cleaned_movies_df['normalized_weighted_avg'] * 0.5 + cleaned_movies_df['normalized_popularity'] * 0.5\r\n",
        "sorted_score_movies_df = cleaned_movies_df.sort_values('score', ascending = False)\r\n",
        "sorted_score_movies_df[['original_title', 'normalized_weighted_avg', 'normalized_popularity', 'score']].head(15)"
      ],
      "execution_count": 70,
      "outputs": [
        {
          "output_type": "execute_result",
          "data": {
            "text/html": [
              "<div>\n",
              "<style scoped>\n",
              "    .dataframe tbody tr th:only-of-type {\n",
              "        vertical-align: middle;\n",
              "    }\n",
              "\n",
              "    .dataframe tbody tr th {\n",
              "        vertical-align: top;\n",
              "    }\n",
              "\n",
              "    .dataframe thead th {\n",
              "        text-align: right;\n",
              "    }\n",
              "</style>\n",
              "<table border=\"1\" class=\"dataframe\">\n",
              "  <thead>\n",
              "    <tr style=\"text-align: right;\">\n",
              "      <th></th>\n",
              "      <th>original_title</th>\n",
              "      <th>normalized_weighted_avg</th>\n",
              "      <th>normalized_popularity</th>\n",
              "      <th>score</th>\n",
              "    </tr>\n",
              "  </thead>\n",
              "  <tbody>\n",
              "    <tr>\n",
              "      <th>95</th>\n",
              "      <td>Interstellar</td>\n",
              "      <td>0.906439</td>\n",
              "      <td>0.827162</td>\n",
              "      <td>0.866801</td>\n",
              "    </tr>\n",
              "    <tr>\n",
              "      <th>546</th>\n",
              "      <td>Minions</td>\n",
              "      <td>0.460630</td>\n",
              "      <td>1.000000</td>\n",
              "      <td>0.730315</td>\n",
              "    </tr>\n",
              "    <tr>\n",
              "      <th>94</th>\n",
              "      <td>Guardians of the Galaxy</td>\n",
              "      <td>0.851874</td>\n",
              "      <td>0.549462</td>\n",
              "      <td>0.700668</td>\n",
              "    </tr>\n",
              "    <tr>\n",
              "      <th>788</th>\n",
              "      <td>Deadpool</td>\n",
              "      <td>0.725217</td>\n",
              "      <td>0.587690</td>\n",
              "      <td>0.656453</td>\n",
              "    </tr>\n",
              "    <tr>\n",
              "      <th>127</th>\n",
              "      <td>Mad Max: Fury Road</td>\n",
              "      <td>0.670973</td>\n",
              "      <td>0.495989</td>\n",
              "      <td>0.583481</td>\n",
              "    </tr>\n",
              "    <tr>\n",
              "      <th>1881</th>\n",
              "      <td>The Shawshank Redemption</td>\n",
              "      <td>1.000000</td>\n",
              "      <td>0.156179</td>\n",
              "      <td>0.578090</td>\n",
              "    </tr>\n",
              "    <tr>\n",
              "      <th>65</th>\n",
              "      <td>The Dark Knight</td>\n",
              "      <td>0.934991</td>\n",
              "      <td>0.213941</td>\n",
              "      <td>0.574466</td>\n",
              "    </tr>\n",
              "    <tr>\n",
              "      <th>3865</th>\n",
              "      <td>Whiplash</td>\n",
              "      <td>0.916431</td>\n",
              "      <td>0.219887</td>\n",
              "      <td>0.568159</td>\n",
              "    </tr>\n",
              "    <tr>\n",
              "      <th>3337</th>\n",
              "      <td>The Godfather</td>\n",
              "      <td>0.959622</td>\n",
              "      <td>0.164074</td>\n",
              "      <td>0.561848</td>\n",
              "    </tr>\n",
              "    <tr>\n",
              "      <th>662</th>\n",
              "      <td>Fight Club</td>\n",
              "      <td>0.953823</td>\n",
              "      <td>0.167611</td>\n",
              "      <td>0.560717</td>\n",
              "    </tr>\n",
              "    <tr>\n",
              "      <th>96</th>\n",
              "      <td>Inception</td>\n",
              "      <td>0.912039</td>\n",
              "      <td>0.191397</td>\n",
              "      <td>0.551718</td>\n",
              "    </tr>\n",
              "    <tr>\n",
              "      <th>3232</th>\n",
              "      <td>Pulp Fiction</td>\n",
              "      <td>0.949991</td>\n",
              "      <td>0.138723</td>\n",
              "      <td>0.544357</td>\n",
              "    </tr>\n",
              "    <tr>\n",
              "      <th>809</th>\n",
              "      <td>Forrest Gump</td>\n",
              "      <td>0.922264</td>\n",
              "      <td>0.157762</td>\n",
              "      <td>0.540013</td>\n",
              "    </tr>\n",
              "    <tr>\n",
              "      <th>199</th>\n",
              "      <td>Pirates of the Caribbean: The Curse of the Bla...</td>\n",
              "      <td>0.740925</td>\n",
              "      <td>0.310620</td>\n",
              "      <td>0.525772</td>\n",
              "    </tr>\n",
              "    <tr>\n",
              "      <th>2294</th>\n",
              "      <td>千と千尋の神隠し</td>\n",
              "      <td>0.909647</td>\n",
              "      <td>0.135874</td>\n",
              "      <td>0.522761</td>\n",
              "    </tr>\n",
              "  </tbody>\n",
              "</table>\n",
              "</div>"
            ],
            "text/plain": [
              "                                         original_title  ...     score\n",
              "95                                         Interstellar  ...  0.866801\n",
              "546                                             Minions  ...  0.730315\n",
              "94                              Guardians of the Galaxy  ...  0.700668\n",
              "788                                            Deadpool  ...  0.656453\n",
              "127                                  Mad Max: Fury Road  ...  0.583481\n",
              "1881                           The Shawshank Redemption  ...  0.578090\n",
              "65                                      The Dark Knight  ...  0.574466\n",
              "3865                                           Whiplash  ...  0.568159\n",
              "3337                                      The Godfather  ...  0.561848\n",
              "662                                          Fight Club  ...  0.560717\n",
              "96                                            Inception  ...  0.551718\n",
              "3232                                       Pulp Fiction  ...  0.544357\n",
              "809                                        Forrest Gump  ...  0.540013\n",
              "199   Pirates of the Caribbean: The Curse of the Bla...  ...  0.525772\n",
              "2294                                           千と千尋の神隠し  ...  0.522761\n",
              "\n",
              "[15 rows x 4 columns]"
            ]
          },
          "metadata": {
            "tags": []
          },
          "execution_count": 70
        }
      ]
    },
    {
      "cell_type": "markdown",
      "metadata": {
        "id": "ZXS8oHXMSR1B"
      },
      "source": [
        "### Visualizing the top 10 movies based on the score\r\n",
        "\r\n",
        "\r\n"
      ]
    },
    {
      "cell_type": "code",
      "metadata": {
        "colab": {
          "base_uri": "https://localhost:8080/",
          "height": 403
        },
        "id": "-2U9LEBfRxFK",
        "outputId": "6a72720e-fe88-4b93-f900-66c5e25c0592"
      },
      "source": [
        "plt.figure(figsize=(12, 6))\r\n",
        "sns.barplot(x = 'score', y = 'original_title', data = sorted_score_movies_df.head(10))\r\n",
        "plt.xlim(0, 1)\r\n",
        "plt.title('Best rated & Most popular Blend', weight = 'bold')\r\n",
        "plt.xlabel('Score', weight = 'bold')\r\n",
        "plt.ylabel('Movie title', weight = 'bold')\r\n",
        "plt.savefig('scored_movies.png')"
      ],
      "execution_count": 71,
      "outputs": [
        {
          "output_type": "display_data",
          "data": {
            "image/png": "[encoded data removed]",
            "text/plain": [
              "<Figure size 864x432 with 1 Axes>"
            ]
          },
          "metadata": {
            "tags": []
          }
        }
      ]
    },
    {
      "cell_type": "code",
      "metadata": {
        "id": "BdZM_R42jaye"
      },
      "source": [
        ""
      ],
      "execution_count": null,
      "outputs": []
    }
  ]
}